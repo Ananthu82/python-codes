{
 "cells": [
  {
   "cell_type": "code",
   "execution_count": 2,
   "metadata": {},
   "outputs": [
    {
     "data": {
      "text/plain": [
       "datetime.datetime(2024, 9, 25, 23, 41, 0, 661008)"
      ]
     },
     "execution_count": 2,
     "metadata": {},
     "output_type": "execute_result"
    }
   ],
   "source": [
    "# 1 currrent date time\n",
    "from datetime import datetime\n",
    "y=datetime.now()\n",
    "y"
   ]
  },
  {
   "cell_type": "code",
   "execution_count": 3,
   "metadata": {},
   "outputs": [
    {
     "data": {
      "text/plain": [
       "datetime.date(2024, 9, 25)"
      ]
     },
     "execution_count": 3,
     "metadata": {},
     "output_type": "execute_result"
    }
   ],
   "source": [
    "# 2 extract specific date information\n",
    "import datetime\n",
    "currentdate=datetime.date.today()\n",
    "currentdate\n"
   ]
  },
  {
   "cell_type": "code",
   "execution_count": 5,
   "metadata": {},
   "outputs": [
    {
     "data": {
      "text/plain": [
       "2024"
      ]
     },
     "execution_count": 5,
     "metadata": {},
     "output_type": "execute_result"
    }
   ],
   "source": [
    "currentdate.year"
   ]
  },
  {
   "cell_type": "code",
   "execution_count": 4,
   "metadata": {},
   "outputs": [
    {
     "data": {
      "text/plain": [
       "9"
      ]
     },
     "execution_count": 4,
     "metadata": {},
     "output_type": "execute_result"
    }
   ],
   "source": [
    "currentdate.month"
   ]
  },
  {
   "cell_type": "code",
   "execution_count": 6,
   "metadata": {},
   "outputs": [
    {
     "data": {
      "text/plain": [
       "25"
      ]
     },
     "execution_count": 6,
     "metadata": {},
     "output_type": "execute_result"
    }
   ],
   "source": [
    "currentdate.day"
   ]
  },
  {
   "cell_type": "code",
   "execution_count": 7,
   "metadata": {},
   "outputs": [
    {
     "data": {
      "text/plain": [
       "datetime.timedelta(days=7916)"
      ]
     },
     "execution_count": 7,
     "metadata": {},
     "output_type": "execute_result"
    }
   ],
   "source": [
    "# 3 calculates the diffrence between two dates\n",
    "currentdate=datetime.date.today()\n",
    "bday=datetime.date(2003,1,23)\n",
    "diff=currentdate-bday\n",
    "diff"
   ]
  },
  {
   "cell_type": "code",
   "execution_count": 8,
   "metadata": {},
   "outputs": [
    {
     "name": "stdout",
     "output_type": "stream",
     "text": [
      "date format (DD-MM-YYYY): 21-11-2222\n",
      "date format (Month Day, Year):November 21,2222\n",
      "date format (YYYY/MM/DD): 2222/11/21\n"
     ]
    }
   ],
   "source": [
    "# 4 formatting dates \n",
    "from datetime import datetime\n",
    "given_date=input(\"enter a date (YYYY-MM-DD:)\")\n",
    "date1=datetime.strptime(given_date, '%Y-%m-%d')\n",
    "format1=date1.strftime('%d-%m-%Y')\n",
    "format2=date1.strftime('%B %d,%Y')\n",
    "format3=date1.strftime('%Y/%m/%d')\n",
    "print(f\"date format (DD-MM-YYYY): {format1}\")\n",
    "print(f\"date format (Month Day, Year):{format2}\")\n",
    "print(f\"date format (YYYY/MM/DD): {format3}\")\n",
    "\n"
   ]
  },
  {
   "cell_type": "code",
   "execution_count": 6,
   "metadata": {},
   "outputs": [
    {
     "name": "stdout",
     "output_type": "stream",
     "text": [
      "day of the give week: Saturday\n"
     ]
    }
   ],
   "source": [
    "# 5 Find the Day of the Week for a Given Date\n",
    "from datetime import datetime\n",
    "inputdate=input(\"enter a date (YYYY-MM-DD)\")\n",
    "date1=datetime.strptime(inputdate, '%Y-%m-%d')\n",
    "day=date1.strftime('%A')\n",
    "print(f\"day of the give week: {day}\")"
   ]
  }
 ],
 "metadata": {
  "kernelspec": {
   "display_name": "Python 3",
   "language": "python",
   "name": "python3"
  },
  "language_info": {
   "codemirror_mode": {
    "name": "ipython",
    "version": 3
   },
   "file_extension": ".py",
   "mimetype": "text/x-python",
   "name": "python",
   "nbconvert_exporter": "python",
   "pygments_lexer": "ipython3",
   "version": "3.12.5"
  }
 },
 "nbformat": 4,
 "nbformat_minor": 2
}
