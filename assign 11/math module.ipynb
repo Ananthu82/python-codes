{
 "cells": [
  {
   "cell_type": "code",
   "execution_count": 4,
   "metadata": {},
   "outputs": [
    {
     "name": "stdout",
     "output_type": "stream",
     "text": [
      "5.0990195135927845\n"
     ]
    }
   ],
   "source": [
    "# 1 square root of a number \n",
    "import math\n",
    "num=int(input(\"enter a number\"))\n",
    "sqr=math.sqrt(num)\n",
    "print(sqr)"
   ]
  },
  {
   "cell_type": "code",
   "execution_count": 5,
   "metadata": {},
   "outputs": [
    {
     "name": "stdout",
     "output_type": "stream",
     "text": [
      "403291461126605635584000000\n"
     ]
    }
   ],
   "source": [
    "# 2 factorial of a number \n",
    "import math\n",
    "fact=int(input(\"enter a number\"))\n",
    "factnum=math.factorial(num)\n",
    "print(factnum)"
   ]
  },
  {
   "cell_type": "code",
   "execution_count": 7,
   "metadata": {},
   "outputs": [
    {
     "name": "stdout",
     "output_type": "stream",
     "text": [
      "sine value: 0.052335956242943835\n",
      "cosine value: 0.9986295347545738\n",
      "tangent value: 0.05240777928304121\n"
     ]
    }
   ],
   "source": [
    "# 3 trignometry functions\n",
    "import math\n",
    "angle=int(input(\"enter the angle:\"))\n",
    "rad=math.radians(angle)\n",
    "sine=math.sin(rad)\n",
    "cosine=math.cos(rad)\n",
    "tangent=math.tan(rad)\n",
    "print(f\"sine value: {sine}\")\n",
    "print(f\"cosine value: {cosine}\")\n",
    "print(f\"tangent value: {tangent}\")"
   ]
  },
  {
   "cell_type": "code",
   "execution_count": 1,
   "metadata": {},
   "outputs": [
    {
     "name": "stdout",
     "output_type": "stream",
     "text": [
      "round up 3.2 using math.ceil : 4\n",
      "rounfing up 3.2 using math.floor : 3\n"
     ]
    }
   ],
   "source": [
    "# 4 rounding a number \n",
    "import math\n",
    "num=float(input(\"enter a number : \"))\n",
    "num_ceil=math.ceil(num)\n",
    "num_floor=math.floor(num)\n",
    "print(f\"round up {num } using math.ceil : {num_ceil}\")\n",
    "print(f\"rounfing up {num} using math.floor : {num_floor}\")"
   ]
  },
  {
   "cell_type": "code",
   "execution_count": 2,
   "metadata": {},
   "outputs": [
    {
     "name": "stdout",
     "output_type": "stream",
     "text": [
      "greatest common divisor of 3 and 6 is : 3\n"
     ]
    }
   ],
   "source": [
    "# 5 greatest common divisor\n",
    "import math\n",
    "num1=int(input(\"enter a number:\"))\n",
    "num2=int(input(\"enter a number:\"))\n",
    "gcd=math.gcd(num1,num2)\n",
    "print(f\"greatest common divisor of {num1} and {num2} is : {gcd}\")"
   ]
  }
 ],
 "metadata": {
  "kernelspec": {
   "display_name": "Python 3",
   "language": "python",
   "name": "python3"
  },
  "language_info": {
   "codemirror_mode": {
    "name": "ipython",
    "version": 3
   },
   "file_extension": ".py",
   "mimetype": "text/x-python",
   "name": "python",
   "nbconvert_exporter": "python",
   "pygments_lexer": "ipython3",
   "version": "3.12.5"
  }
 },
 "nbformat": 4,
 "nbformat_minor": 2
}
