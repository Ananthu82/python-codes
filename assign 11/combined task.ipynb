{
 "cells": [
  {
   "cell_type": "code",
   "execution_count": 5,
   "metadata": {},
   "outputs": [
    {
     "name": "stdout",
     "output_type": "stream",
     "text": [
      "random picked date : 1999-12-08 00:00:00\n"
     ]
    }
   ],
   "source": [
    "# 1 generate random date \n",
    "import random\n",
    "from datetime import datetime,timedelta\n",
    "date1=input(\"enter start date (YYYY-MM-DD):\")\n",
    "date2=input(\"enter end date (YYYY-MM-DD):\")\n",
    "start_date=datetime.strptime(date1,'%Y-%m-%d')\n",
    "end_date=datetime.strptime(date2,'%Y-%m-%d')\n",
    "diff_days=(end_date-start_date).days\n",
    "random_date=random.randint(0,diff_days)\n",
    "picked_date=start_date+timedelta(days=random_date)\n",
    "print(f\"random picked date : {picked_date}\")\n"
   ]
  },
  {
   "cell_type": "code",
   "execution_count": 1,
   "metadata": {},
   "outputs": [
    {
     "name": "stdout",
     "output_type": "stream",
     "text": [
      "the answer given is false\n"
     ]
    }
   ],
   "source": [
    "# 2 math quiz game\n",
    "import random\n",
    "import math\n",
    "num1=random.randint(1,100)\n",
    "num2=random.randint(1,100)\n",
    "operators=random.choice(['+','-'])\n",
    "\n",
    "if operators=='+':\n",
    "    correct_answer=num1+num2\n",
    "else:\n",
    "    operators=='-'\n",
    "    correct_answer=num1-num2\n",
    "user_answer=int(input(f\"{num1} {operators} {num2} = \"))\n",
    "\n",
    "if user_answer==correct_answer:\n",
    "    print(\"correct answer\")\n",
    "else:\n",
    "    print(\"the answer given is false\")\n"
   ]
  }
 ],
 "metadata": {
  "kernelspec": {
   "display_name": "Python 3",
   "language": "python",
   "name": "python3"
  },
  "language_info": {
   "codemirror_mode": {
    "name": "ipython",
    "version": 3
   },
   "file_extension": ".py",
   "mimetype": "text/x-python",
   "name": "python",
   "nbconvert_exporter": "python",
   "pygments_lexer": "ipython3",
   "version": "3.12.5"
  }
 },
 "nbformat": 4,
 "nbformat_minor": 2
}
