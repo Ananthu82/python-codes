{
 "cells": [
  {
   "cell_type": "code",
   "execution_count": 3,
   "metadata": {},
   "outputs": [
    {
     "name": "stdout",
     "output_type": "stream",
     "text": [
      "42\n"
     ]
    }
   ],
   "source": [
    "# 1 random number between 1 and 100\n",
    "import random\n",
    "num=random.randint(1,100)\n",
    "print(num)"
   ]
  },
  {
   "cell_type": "code",
   "execution_count": 5,
   "metadata": {},
   "outputs": [
    {
     "name": "stdout",
     "output_type": "stream",
     "text": [
      "song\n"
     ]
    }
   ],
   "source": [
    "# 2 random choice from a list\n",
    "import random\n",
    "list=[\"porsche\",\"stone\",\"paper\",\"song\"]\n",
    "choice=random.choice(list)\n",
    "print(choice)"
   ]
  },
  {
   "cell_type": "code",
   "execution_count": 7,
   "metadata": {},
   "outputs": [
    {
     "name": "stdout",
     "output_type": "stream",
     "text": [
      "roll 1 : 6\n",
      "roll 2 : 5\n",
      "roll 3 : 4\n",
      "roll 4 : 3\n",
      "roll 5 : 6\n",
      "roll 6 : 3\n",
      "roll 7 : 5\n",
      "roll 8 : 3\n",
      "roll 9 : 3\n",
      "roll 10 : 5\n"
     ]
    }
   ],
   "source": [
    "# 3 simulate rolling a dice\n",
    "import random \n",
    "for i in range(1,11):\n",
    "    roll=random.randint(1,6)\n",
    "    print(f\"roll {i} : {roll}\")"
   ]
  },
  {
   "cell_type": "code",
   "execution_count": 14,
   "metadata": {},
   "outputs": [
    {
     "name": "stdout",
     "output_type": "stream",
     "text": [
      "shuffled list : ['paper', 'song', 'porsche', 'stone']\n"
     ]
    }
   ],
   "source": [
    "# 4 shuffle a list\n",
    "import random\n",
    "list=[\"porsche\",\"stone\",\"paper\",\"song\"]\n",
    "random.shuffle(list)\n",
    "print(f\"shuffled list : {list}\")\n"
   ]
  },
  {
   "cell_type": "code",
   "execution_count": 1,
   "metadata": {},
   "outputs": [
    {
     "name": "stdout",
     "output_type": "stream",
     "text": [
      "the generated password is: *@f.Ls\n"
     ]
    }
   ],
   "source": [
    "# 5 random password generator\n",
    "import random \n",
    "import string\n",
    "\n",
    "lenght=int(input(\"enter the lenght of password :\"))\n",
    "characters=string.ascii_letters+string.digits+string.punctuation\n",
    "password=\"\".join(random.choices(characters,k=lenght))\n",
    "print(f\"the generated password is: {password}\")"
   ]
  }
 ],
 "metadata": {
  "kernelspec": {
   "display_name": "Python 3",
   "language": "python",
   "name": "python3"
  },
  "language_info": {
   "codemirror_mode": {
    "name": "ipython",
    "version": 3
   },
   "file_extension": ".py",
   "mimetype": "text/x-python",
   "name": "python",
   "nbconvert_exporter": "python",
   "pygments_lexer": "ipython3",
   "version": "3.12.5"
  }
 },
 "nbformat": 4,
 "nbformat_minor": 2
}
