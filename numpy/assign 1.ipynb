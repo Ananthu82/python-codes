{
 "cells": [
  {
   "cell_type": "code",
   "execution_count": 10,
   "metadata": {},
   "outputs": [
    {
     "name": "stdout",
     "output_type": "stream",
     "text": [
      "addition: [ 6  7  8  9 10 11 12 13 14 15 16 17 18 19 20 21 22 23 24 25]\n",
      "subtraction: [-4 -3 -2 -1  0  1  2  3  4  5  6  7  8  9 10 11 12 13 14 15]\n",
      "multiplication: [  5  10  15  20  25  30  35  40  45  50  55  60  65  70  75  80  85  90\n",
      "  95 100]\n",
      "division: [0.2 0.4 0.6 0.8 1.  1.2 1.4 1.6 1.8 2.  2.2 2.4 2.6 2.8 3.  3.2 3.4 3.6\n",
      " 3.8 4. ]\n",
      "sum: 210\n",
      "mean: 10.5\n",
      "max: 20\n",
      "min: 1\n"
     ]
    }
   ],
   "source": [
    "# 1 Array Creation and Basic Operations:\n",
    "import numpy as np\n",
    "array=np.arange(1,21)\n",
    "add=array+5\n",
    "sub=array-5\n",
    "multi=array*5\n",
    "div=array/5\n",
    "print('addition:',add)\n",
    "print('subtraction:',sub)\n",
    "print('multiplication:',multi)\n",
    "print('division:',div)\n",
    "\n",
    "sum=array.sum()\n",
    "mean=array.mean()\n",
    "maxi=array.max()\n",
    "mini=array.min()\n",
    "print('sum:',sum)\n",
    "print('mean:',mean)\n",
    "print('max:',maxi)\n",
    "print('min:',mini)"
   ]
  },
  {
   "cell_type": "code",
   "execution_count": null,
   "metadata": {},
   "outputs": [
    {
     "name": "stdout",
     "output_type": "stream",
     "text": [
      "[[18 25 35 28 18]\n",
      " [48 11 26 17 47]\n",
      " [19 49 43 45 37]\n",
      " [37 43 32 36 41]]\n",
      "3rd column: [35 26 43 32]\n",
      "first two rows: [[18 25 35 28 18]\n",
      " [48 11 26 17 47]]\n"
     ]
    }
   ],
   "source": [
    "# 2 \n",
    "import numpy as np\n",
    "arr2d=np.random.randint(10,50,(4,5))\n",
    "print(arr2d)\n",
    "column3=arr2d[:,2]\n",
    "print('3rd column:',column3)\n",
    "rows=arr2d[:2,:]\n",
    "print('first two rows:',rows)"
   ]
  },
  {
   "cell_type": "code",
   "execution_count": 15,
   "metadata": {},
   "outputs": [
    {
     "name": "stdout",
     "output_type": "stream",
     "text": [
      "[[10  8  1  4]\n",
      " [ 5  6  2 11]\n",
      " [ 6  6  2 11]]\n",
      "reshaped array: [[10  8  1  4  5  6]\n",
      " [ 2 11  6  6  2 11]]\n",
      "[[10  8]\n",
      " [ 1  4]\n",
      " [ 5  6]\n",
      " [ 2 11]\n",
      " [ 6  6]\n",
      " [ 2 11]]\n"
     ]
    }
   ],
   "source": [
    "# 3 \n",
    "array=np.random.randint(1,12,(3,4))\n",
    "print(array)\n",
    "array2=array.reshape(2,6)\n",
    "print('reshaped array:',array2)\n",
    "array3=array.reshape(6,2)\n",
    "print(array3)"
   ]
  },
  {
   "cell_type": "code",
   "execution_count": 4,
   "metadata": {},
   "outputs": [
    {
     "data": {
      "text/plain": [
       "array([[2, 3, 4, 5],\n",
       "       [3, 4, 5, 6],\n",
       "       [4, 5, 6, 7]])"
      ]
     },
     "execution_count": 4,
     "metadata": {},
     "output_type": "execute_result"
    }
   ],
   "source": [
    "# 4 \n",
    "import numpy as np\n",
    "arr1=np.array([[1],[2],[3]])\n",
    "arr2=np.array([[1,2,3,4]])\n",
    "result=arr1+arr2\n",
    "result"
   ]
  },
  {
   "cell_type": "code",
   "execution_count": 6,
   "metadata": {},
   "outputs": [
    {
     "name": "stdout",
     "output_type": "stream",
     "text": [
      "mean: 0.6131236526436696\n",
      "standard deviation: 0.24217623790687956\n",
      "variance: 0.05864933020672953\n",
      "median along axis 0: [0.72461704 0.72043505 0.45001167]\n",
      "median along axis 1: [0.72461704 0.87495339 0.34173028]\n"
     ]
    }
   ],
   "source": [
    "# 5 \n",
    "array=np.random.rand(3,3)\n",
    "array\n",
    "mean=np.mean(array)\n",
    "std=np.std(array)\n",
    "var=np.var(array)\n",
    "print('mean:',mean)\n",
    "print('standard deviation:',std)\n",
    "print('variance:',var)\n",
    "median0=np.median(array,axis=0)\n",
    "median1=np.median(array,axis=1)\n",
    "print('median along axis 0:',median0)\n",
    "print('median along axis 1:',median1)"
   ]
  },
  {
   "cell_type": "code",
   "execution_count": 10,
   "metadata": {},
   "outputs": [
    {
     "name": "stdout",
     "output_type": "stream",
     "text": [
      "[91 90 94 54 69 96 55 60 65 84 82 91 77 59 72]\n",
      "sorted: [54 55 59 60 65 69 72 77 82 84 90 91 91 94 96]\n",
      "indices greater than 75: (array([ 0,  1,  2,  5,  9, 10, 11, 12]),)\n"
     ]
    }
   ],
   "source": [
    "# 6 \n",
    "array=np.random.randint(50,100,15)\n",
    "print(array)\n",
    "sorted=np.sort(array)\n",
    "print('sorted:',sorted)\n",
    "indices=np.where(array>75)\n",
    "print('indices greater than 75:',indices)"
   ]
  },
  {
   "cell_type": "code",
   "execution_count": 17,
   "metadata": {},
   "outputs": [
    {
     "name": "stdout",
     "output_type": "stream",
     "text": [
      "[[6 1 6]\n",
      " [5 5 6]\n",
      " [5 3 9]]\n",
      "[[1 3 1]\n",
      " [7 6 9]\n",
      " [2 6 3]]\n",
      "addition: [[ 7  4  7]\n",
      " [12 11 15]\n",
      " [ 7  9 12]]\n",
      "subtraction: [[ 5 -2  5]\n",
      " [-2 -1 -3]\n",
      " [ 3 -3  6]]\n",
      "multiplication: [[ 6  3  6]\n",
      " [35 30 54]\n",
      " [10 18 27]]\n",
      "division: [[6.         0.33333333 6.        ]\n",
      " [0.71428571 0.83333333 0.66666667]\n",
      " [2.5        0.5        3.        ]]\n",
      "dot product: [[25 60 33]\n",
      " [52 81 68]\n",
      " [44 87 59]]\n"
     ]
    }
   ],
   "source": [
    "# 7\n",
    "arr1 = np.random.randint(1, 10, (3, 3))\n",
    "arr2 = np.random.randint(1, 10, (3, 3))\n",
    "add=arr1+arr2\n",
    "sub=arr1-arr2\n",
    "mult=arr1*arr2\n",
    "div=arr1/arr2\n",
    "dot_product=np.dot(arr1,arr2)\n",
    "print(arr1)\n",
    "print(arr2)\n",
    "print('addition:',add)\n",
    "print('subtraction:',sub)\n",
    "print('multiplication:',mult)\n",
    "print('division:',div)\n",
    "print('dot product:',dot_product)"
   ]
  }
 ],
 "metadata": {
  "kernelspec": {
   "display_name": "Python 3",
   "language": "python",
   "name": "python3"
  },
  "language_info": {
   "codemirror_mode": {
    "name": "ipython",
    "version": 3
   },
   "file_extension": ".py",
   "mimetype": "text/x-python",
   "name": "python",
   "nbconvert_exporter": "python",
   "pygments_lexer": "ipython3",
   "version": "3.12.5"
  }
 },
 "nbformat": 4,
 "nbformat_minor": 2
}
