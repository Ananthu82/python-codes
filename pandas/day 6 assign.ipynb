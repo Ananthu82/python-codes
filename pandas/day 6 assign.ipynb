{
 "cells": [
  {
   "cell_type": "code",
   "execution_count": 3,
   "metadata": {},
   "outputs": [
    {
     "name": "stdout",
     "output_type": "stream",
     "text": [
      "  Team  Points  Rank\n",
      "0    B      15     1\n",
      "1    C      20     2\n"
     ]
    }
   ],
   "source": [
    "# 1 Merging Two DataFrames on a Common Column (Inner Join):\n",
    "import pandas as pd\n",
    "data1 = {'Team': ['A', 'B', 'C', 'D'],\n",
    "         'Points': [10, 15, 20, 25]}\n",
    "df1 = pd.DataFrame(data1)\n",
    "data2 = {'Team': ['B', 'C', 'E', 'F'],\n",
    "         'Rank': [1, 2, 3, 4]}\n",
    "df2 = pd.DataFrame(data2)\n",
    "merged_df = pd.merge(df1, df2, on='Team', how='inner')\n",
    "print(merged_df)"
   ]
  },
  {
   "cell_type": "code",
   "execution_count": 4,
   "metadata": {},
   "outputs": [
    {
     "name": "stdout",
     "output_type": "stream",
     "text": [
      "  Team  Points  Rank\n",
      "0    A    10.0   NaN\n",
      "1    B    15.0   1.0\n",
      "2    C    20.0   2.0\n",
      "3    D    25.0   NaN\n",
      "4    E     NaN   3.0\n",
      "5    F     NaN   4.0\n"
     ]
    }
   ],
   "source": [
    "# 2 Merging with an Outer Join:\n",
    "import pandas as pd\n",
    "data1 = {'Team': ['A', 'B', 'C', 'D'],\n",
    "         'Points': [10, 15, 20, 25]}\n",
    "df1 = pd.DataFrame(data1)\n",
    "data2 = {'Team': ['B', 'C', 'E', 'F'],\n",
    "         'Rank': [1, 2, 3, 4]}\n",
    "df2 = pd.DataFrame(data2)\n",
    "merged_df = pd.merge(df1, df2, on='Team', how='outer')\n",
    "print(merged_df)"
   ]
  },
  {
   "cell_type": "code",
   "execution_count": 5,
   "metadata": {},
   "outputs": [
    {
     "name": "stdout",
     "output_type": "stream",
     "text": [
      "  Team  Points  Rank\n",
      "0    A      10   NaN\n",
      "1    B      15   1.0\n",
      "2    C      20   2.0\n",
      "3    D      25   NaN\n"
     ]
    }
   ],
   "source": [
    "# 3 Merging with a Left Join:\n",
    "import pandas as pd\n",
    "data1 = {'Team': ['A', 'B', 'C', 'D'],\n",
    "         'Points': [10, 15, 20, 25]}\n",
    "df1 = pd.DataFrame(data1)\n",
    "data2 = {'Team': ['B', 'C', 'E', 'F'],\n",
    "         'Rank': [1, 2, 3, 4]}\n",
    "df2 = pd.DataFrame(data2)\n",
    "merged_df = pd.merge(df1, df2, on='Team', how='left')\n",
    "print(merged_df)"
   ]
  },
  {
   "cell_type": "code",
   "execution_count": 6,
   "metadata": {},
   "outputs": [
    {
     "name": "stdout",
     "output_type": "stream",
     "text": [
      "  Team  Points  Rank\n",
      "0    B    15.0     1\n",
      "1    C    20.0     2\n",
      "2    E     NaN     3\n",
      "3    F     NaN     4\n"
     ]
    }
   ],
   "source": [
    "# 4 Merging with a Right Join:\n",
    "import pandas as pd\n",
    "data1 = {'Team': ['A', 'B', 'C', 'D'],\n",
    "         'Points': [10, 15, 20, 25]}\n",
    "df1 = pd.DataFrame(data1)\n",
    "data2 = {'Team': ['B', 'C', 'E', 'F'],\n",
    "         'Rank': [1, 2, 3, 4]}\n",
    "df2 = pd.DataFrame(data2)\n",
    "merged_df = pd.merge(df1, df2, on='Team', how='right')\n",
    "print(merged_df)"
   ]
  },
  {
   "cell_type": "code",
   "execution_count": 5,
   "metadata": {},
   "outputs": [
    {
     "name": "stdout",
     "output_type": "stream",
     "text": [
      "  Team_  Points Team  Rank\n",
      "0     A      10    B     1\n",
      "1     B      15    C     2\n",
      "2     C      20    E     3\n",
      "3     D      25    F     4\n"
     ]
    }
   ],
   "source": [
    "# 5 join \n",
    "import pandas as pd\n",
    "data1 = {'Team': ['A', 'B', 'C', 'D'],\n",
    "         'Points': [10, 15, 20, 25]}\n",
    "df1 = pd.DataFrame(data1)\n",
    "data2 = {'Team': ['B', 'C', 'E', 'F'],\n",
    "         'Rank': [1, 2, 3, 4]}\n",
    "df2 = pd.DataFrame(data2)\n",
    "merged_df =df1.join(df2, how='outer',lsuffix='_')\n",
    "print(merged_df)"
   ]
  }
 ],
 "metadata": {
  "kernelspec": {
   "display_name": "Python 3",
   "language": "python",
   "name": "python3"
  },
  "language_info": {
   "codemirror_mode": {
    "name": "ipython",
    "version": 3
   },
   "file_extension": ".py",
   "mimetype": "text/x-python",
   "name": "python",
   "nbconvert_exporter": "python",
   "pygments_lexer": "ipython3",
   "version": "3.12.5"
  }
 },
 "nbformat": 4,
 "nbformat_minor": 2
}
